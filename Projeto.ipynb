{
 "cells": [
  {
   "cell_type": "code",
   "execution_count": 2,
   "id": "a87145e6",
   "metadata": {},
   "outputs": [
    {
     "name": "stdout",
     "output_type": "stream",
     "text": [
      "Defaulting to user installation because normal site-packages is not writeable\n",
      "Requirement already satisfied: kagglehub in c:\\users\\alan de castro\\appdata\\roaming\\python\\python312\\site-packages (0.3.12)\n",
      "Requirement already satisfied: packaging in c:\\users\\alan de castro\\appdata\\roaming\\python\\python312\\site-packages (from kagglehub) (24.2)\n",
      "Requirement already satisfied: pyyaml in c:\\users\\alan de castro\\appdata\\roaming\\python\\python312\\site-packages (from kagglehub) (6.0.2)\n",
      "Requirement already satisfied: requests in c:\\users\\alan de castro\\appdata\\roaming\\python\\python312\\site-packages (from kagglehub) (2.32.3)\n",
      "Requirement already satisfied: tqdm in c:\\users\\alan de castro\\appdata\\roaming\\python\\python312\\site-packages (from kagglehub) (4.67.1)\n",
      "Requirement already satisfied: charset-normalizer<4,>=2 in c:\\users\\alan de castro\\appdata\\roaming\\python\\python312\\site-packages (from requests->kagglehub) (3.4.1)\n",
      "Requirement already satisfied: idna<4,>=2.5 in c:\\users\\alan de castro\\appdata\\roaming\\python\\python312\\site-packages (from requests->kagglehub) (3.10)\n",
      "Requirement already satisfied: urllib3<3,>=1.21.1 in c:\\users\\alan de castro\\appdata\\roaming\\python\\python312\\site-packages (from requests->kagglehub) (2.3.0)\n",
      "Requirement already satisfied: certifi>=2017.4.17 in c:\\users\\alan de castro\\appdata\\roaming\\python\\python312\\site-packages (from requests->kagglehub) (2025.1.31)\n",
      "Requirement already satisfied: colorama in c:\\users\\alan de castro\\appdata\\roaming\\python\\python312\\site-packages (from tqdm->kagglehub) (0.4.6)\n"
     ]
    },
    {
     "name": "stderr",
     "output_type": "stream",
     "text": [
      "\n",
      "[notice] A new release of pip is available: 24.2 -> 25.1.1\n",
      "[notice] To update, run: C:\\Python312\\python.exe -m pip install --upgrade pip\n"
     ]
    },
    {
     "name": "stdout",
     "output_type": "stream",
     "text": [
      "Defaulting to user installation because normal site-packages is not writeable\n",
      "Requirement already satisfied: kaggle in c:\\users\\alan de castro\\appdata\\roaming\\python\\python312\\site-packages (1.7.4.2)\n",
      "Requirement already satisfied: bleach in c:\\users\\alan de castro\\appdata\\roaming\\python\\python312\\site-packages (from kaggle) (6.2.0)\n",
      "Requirement already satisfied: certifi>=14.05.14 in c:\\users\\alan de castro\\appdata\\roaming\\python\\python312\\site-packages (from kaggle) (2025.1.31)\n",
      "Requirement already satisfied: charset-normalizer in c:\\users\\alan de castro\\appdata\\roaming\\python\\python312\\site-packages (from kaggle) (3.4.1)\n",
      "Requirement already satisfied: idna in c:\\users\\alan de castro\\appdata\\roaming\\python\\python312\\site-packages (from kaggle) (3.10)\n",
      "Requirement already satisfied: protobuf in c:\\users\\alan de castro\\appdata\\roaming\\python\\python312\\site-packages (from kaggle) (5.29.4)\n",
      "Requirement already satisfied: python-dateutil>=2.5.3 in c:\\users\\alan de castro\\appdata\\roaming\\python\\python312\\site-packages (from kaggle) (2.9.0.post0)\n",
      "Requirement already satisfied: python-slugify in c:\\users\\alan de castro\\appdata\\roaming\\python\\python312\\site-packages (from kaggle) (8.0.4)\n",
      "Requirement already satisfied: requests in c:\\users\\alan de castro\\appdata\\roaming\\python\\python312\\site-packages (from kaggle) (2.32.3)\n",
      "Requirement already satisfied: setuptools>=21.0.0 in c:\\users\\alan de castro\\appdata\\roaming\\python\\python312\\site-packages (from kaggle) (78.1.0)\n",
      "Requirement already satisfied: six>=1.10 in c:\\users\\alan de castro\\appdata\\roaming\\python\\python312\\site-packages (from kaggle) (1.17.0)\n",
      "Requirement already satisfied: text-unidecode in c:\\users\\alan de castro\\appdata\\roaming\\python\\python312\\site-packages (from kaggle) (1.3)\n",
      "Requirement already satisfied: tqdm in c:\\users\\alan de castro\\appdata\\roaming\\python\\python312\\site-packages (from kaggle) (4.67.1)\n",
      "Requirement already satisfied: urllib3>=1.15.1 in c:\\users\\alan de castro\\appdata\\roaming\\python\\python312\\site-packages (from kaggle) (2.3.0)\n",
      "Requirement already satisfied: webencodings in c:\\users\\alan de castro\\appdata\\roaming\\python\\python312\\site-packages (from kaggle) (0.5.1)\n",
      "Requirement already satisfied: colorama in c:\\users\\alan de castro\\appdata\\roaming\\python\\python312\\site-packages (from tqdm->kaggle) (0.4.6)\n"
     ]
    },
    {
     "name": "stderr",
     "output_type": "stream",
     "text": [
      "\n",
      "[notice] A new release of pip is available: 24.2 -> 25.1.1\n",
      "[notice] To update, run: C:\\Python312\\python.exe -m pip install --upgrade pip\n"
     ]
    },
    {
     "name": "stdout",
     "output_type": "stream",
     "text": [
      "Defaulting to user installation because normal site-packages is not writeable\n",
      "Requirement already satisfied: openpyxl in c:\\users\\alan de castro\\appdata\\roaming\\python\\python312\\site-packages (3.1.5)\n",
      "Requirement already satisfied: et-xmlfile in c:\\users\\alan de castro\\appdata\\roaming\\python\\python312\\site-packages (from openpyxl) (2.0.0)\n"
     ]
    },
    {
     "name": "stderr",
     "output_type": "stream",
     "text": [
      "\n",
      "[notice] A new release of pip is available: 24.2 -> 25.1.1\n",
      "[notice] To update, run: C:\\Python312\\python.exe -m pip install --upgrade pip\n"
     ]
    }
   ],
   "source": [
    "!pip install kagglehub\n",
    "!pip install kaggle\n",
    "!pip install openpyxl"
   ]
  },
  {
   "cell_type": "code",
   "execution_count": 3,
   "id": "c678bd3f",
   "metadata": {},
   "outputs": [
    {
     "name": "stdout",
     "output_type": "stream",
     "text": [
      "Defaulting to user installation because normal site-packages is not writeable"
     ]
    },
    {
     "name": "stderr",
     "output_type": "stream",
     "text": [
      "\n",
      "[notice] A new release of pip is available: 24.2 -> 25.1.1\n",
      "[notice] To update, run: C:\\Python312\\python.exe -m pip install --upgrade pip\n"
     ]
    },
    {
     "name": "stdout",
     "output_type": "stream",
     "text": [
      "\n",
      "Requirement already satisfied: openpyxl in c:\\users\\alan de castro\\appdata\\roaming\\python\\python312\\site-packages (3.1.5)\n",
      "Requirement already satisfied: et-xmlfile in c:\\users\\alan de castro\\appdata\\roaming\\python\\python312\\site-packages (from openpyxl) (2.0.0)\n"
     ]
    }
   ],
   "source": [
    "!pip install --upgrade openpyxl"
   ]
  },
  {
   "cell_type": "code",
   "execution_count": 4,
   "id": "d2359945",
   "metadata": {},
   "outputs": [
    {
     "name": "stderr",
     "output_type": "stream",
     "text": [
      "\n",
      "[notice] A new release of pip is available: 23.1.2 -> 25.1.1\n",
      "[notice] To update, run: python.exe -m pip install --upgrade pip\n"
     ]
    },
    {
     "name": "stdout",
     "output_type": "stream",
     "text": [
      "Requirement already satisfied: openpyxl in c:\\users\\alan de castro\\appdata\\local\\programs\\python\\python311\\lib\\site-packages (3.1.5)\n",
      "Requirement already satisfied: et-xmlfile in c:\\users\\alan de castro\\appdata\\local\\programs\\python\\python311\\lib\\site-packages (from openpyxl) (2.0.0)\n",
      "Note: you may need to restart the kernel to use updated packages.\n",
      "3.1.5\n"
     ]
    }
   ],
   "source": [
    "%pip install --upgrade openpyxl\n",
    "import openpyxl\n",
    "print(openpyxl.__version__)\n"
   ]
  },
  {
   "cell_type": "code",
   "execution_count": 5,
   "id": "1cb96f03",
   "metadata": {},
   "outputs": [
    {
     "name": "stdout",
     "output_type": "stream",
     "text": [
      "Requirement already satisfied: snorkel in c:\\users\\alan de castro\\appdata\\local\\programs\\python\\python311\\lib\\site-packages (0.10.0)\n",
      "Requirement already satisfied: munkres>=1.0.6 in c:\\users\\alan de castro\\appdata\\local\\programs\\python\\python311\\lib\\site-packages (from snorkel) (1.1.4)\n",
      "Requirement already satisfied: numpy>=1.24.0 in c:\\users\\alan de castro\\appdata\\local\\programs\\python\\python311\\lib\\site-packages (from snorkel) (1.24.3)\n",
      "Requirement already satisfied: scipy>=1.2.0 in c:\\users\\alan de castro\\appdata\\local\\programs\\python\\python311\\lib\\site-packages (from snorkel) (1.12.0)\n",
      "Requirement already satisfied: pandas>=1.0.0 in c:\\users\\alan de castro\\appdata\\local\\programs\\python\\python311\\lib\\site-packages (from snorkel) (2.2.1)\n",
      "Requirement already satisfied: tqdm>=4.33.0 in c:\\users\\alan de castro\\appdata\\local\\programs\\python\\python311\\lib\\site-packages (from snorkel) (4.66.1)\n",
      "Requirement already satisfied: scikit-learn>=0.20.2 in c:\\users\\alan de castro\\appdata\\local\\programs\\python\\python311\\lib\\site-packages (from snorkel) (1.4.1.post1)\n",
      "Requirement already satisfied: torch>=1.2.0 in c:\\users\\alan de castro\\appdata\\local\\programs\\python\\python311\\lib\\site-packages (from snorkel) (2.3.0)\n",
      "Requirement already satisfied: tensorboard>=2.13.0 in c:\\users\\alan de castro\\appdata\\local\\programs\\python\\python311\\lib\\site-packages (from snorkel) (2.13.0)\n",
      "Requirement already satisfied: protobuf>=3.19.6 in c:\\users\\alan de castro\\appdata\\local\\programs\\python\\python311\\lib\\site-packages (from snorkel) (4.24.2)\n",
      "Requirement already satisfied: networkx>=2.2 in c:\\users\\alan de castro\\appdata\\local\\programs\\python\\python311\\lib\\site-packages (from snorkel) (3.3)\n",
      "Requirement already satisfied: python-dateutil>=2.8.2 in c:\\users\\alan de castro\\appdata\\roaming\\python\\python311\\site-packages (from pandas>=1.0.0->snorkel) (2.8.2)\n",
      "Requirement already satisfied: pytz>=2020.1 in c:\\users\\alan de castro\\appdata\\local\\programs\\python\\python311\\lib\\site-packages (from pandas>=1.0.0->snorkel) (2024.1)\n",
      "Requirement already satisfied: tzdata>=2022.7 in c:\\users\\alan de castro\\appdata\\local\\programs\\python\\python311\\lib\\site-packages (from pandas>=1.0.0->snorkel) (2024.1)\n",
      "Requirement already satisfied: joblib>=1.2.0 in c:\\users\\alan de castro\\appdata\\local\\programs\\python\\python311\\lib\\site-packages (from scikit-learn>=0.20.2->snorkel) (1.3.2)\n",
      "Requirement already satisfied: threadpoolctl>=2.0.0 in c:\\users\\alan de castro\\appdata\\local\\programs\\python\\python311\\lib\\site-packages (from scikit-learn>=0.20.2->snorkel) (3.3.0)\n",
      "Requirement already satisfied: absl-py>=0.4 in c:\\users\\alan de castro\\appdata\\local\\programs\\python\\python311\\lib\\site-packages (from tensorboard>=2.13.0->snorkel) (1.4.0)\n",
      "Requirement already satisfied: grpcio>=1.48.2 in c:\\users\\alan de castro\\appdata\\local\\programs\\python\\python311\\lib\\site-packages (from tensorboard>=2.13.0->snorkel) (1.57.0)\n",
      "Requirement already satisfied: google-auth<3,>=1.6.3 in c:\\users\\alan de castro\\appdata\\local\\programs\\python\\python311\\lib\\site-packages (from tensorboard>=2.13.0->snorkel) (2.22.0)\n",
      "Requirement already satisfied: google-auth-oauthlib<1.1,>=0.5 in c:\\users\\alan de castro\\appdata\\local\\programs\\python\\python311\\lib\\site-packages (from tensorboard>=2.13.0->snorkel) (1.0.0)\n",
      "Requirement already satisfied: markdown>=2.6.8 in c:\\users\\alan de castro\\appdata\\local\\programs\\python\\python311\\lib\\site-packages (from tensorboard>=2.13.0->snorkel) (3.4.4)\n",
      "Requirement already satisfied: requests<3,>=2.21.0 in c:\\users\\alan de castro\\appdata\\local\\programs\\python\\python311\\lib\\site-packages (from tensorboard>=2.13.0->snorkel) (2.31.0)\n",
      "Requirement already satisfied: setuptools>=41.0.0 in c:\\users\\alan de castro\\appdata\\local\\programs\\python\\python311\\lib\\site-packages (from tensorboard>=2.13.0->snorkel) (65.5.0)\n",
      "Requirement already satisfied: tensorboard-data-server<0.8.0,>=0.7.0 in c:\\users\\alan de castro\\appdata\\local\\programs\\python\\python311\\lib\\site-packages (from tensorboard>=2.13.0->snorkel) (0.7.1)\n",
      "Requirement already satisfied: werkzeug>=1.0.1 in c:\\users\\alan de castro\\appdata\\local\\programs\\python\\python311\\lib\\site-packages (from tensorboard>=2.13.0->snorkel) (2.3.7)\n",
      "Requirement already satisfied: wheel>=0.26 in c:\\users\\alan de castro\\appdata\\local\\programs\\python\\python311\\lib\\site-packages (from tensorboard>=2.13.0->snorkel) (0.41.2)\n",
      "Requirement already satisfied: filelock in c:\\users\\alan de castro\\appdata\\local\\programs\\python\\python311\\lib\\site-packages (from torch>=1.2.0->snorkel) (3.14.0)\n",
      "Requirement already satisfied: typing-extensions>=4.8.0 in c:\\users\\alan de castro\\appdata\\local\\programs\\python\\python311\\lib\\site-packages (from torch>=1.2.0->snorkel) (4.13.2)\n",
      "Requirement already satisfied: sympy in c:\\users\\alan de castro\\appdata\\local\\programs\\python\\python311\\lib\\site-packages (from torch>=1.2.0->snorkel) (1.12.1)\n",
      "Requirement already satisfied: jinja2 in c:\\users\\alan de castro\\appdata\\local\\programs\\python\\python311\\lib\\site-packages (from torch>=1.2.0->snorkel) (3.1.3)\n",
      "Requirement already satisfied: fsspec in c:\\users\\alan de castro\\appdata\\local\\programs\\python\\python311\\lib\\site-packages (from torch>=1.2.0->snorkel) (2024.6.0)\n",
      "Requirement already satisfied: mkl<=2021.4.0,>=2021.1.1 in c:\\users\\alan de castro\\appdata\\local\\programs\\python\\python311\\lib\\site-packages (from torch>=1.2.0->snorkel) (2021.4.0)\n",
      "Requirement already satisfied: colorama in c:\\users\\alan de castro\\appdata\\roaming\\python\\python311\\site-packages (from tqdm>=4.33.0->snorkel) (0.4.6)\n",
      "Requirement already satisfied: cachetools<6.0,>=2.0.0 in c:\\users\\alan de castro\\appdata\\local\\programs\\python\\python311\\lib\\site-packages (from google-auth<3,>=1.6.3->tensorboard>=2.13.0->snorkel) (5.3.1)\n",
      "Requirement already satisfied: pyasn1-modules>=0.2.1 in c:\\users\\alan de castro\\appdata\\local\\programs\\python\\python311\\lib\\site-packages (from google-auth<3,>=1.6.3->tensorboard>=2.13.0->snorkel) (0.3.0)\n",
      "Requirement already satisfied: rsa<5,>=3.1.4 in c:\\users\\alan de castro\\appdata\\local\\programs\\python\\python311\\lib\\site-packages (from google-auth<3,>=1.6.3->tensorboard>=2.13.0->snorkel) (4.9)\n",
      "Requirement already satisfied: six>=1.9.0 in c:\\users\\alan de castro\\appdata\\roaming\\python\\python311\\site-packages (from google-auth<3,>=1.6.3->tensorboard>=2.13.0->snorkel) (1.16.0)\n",
      "Requirement already satisfied: urllib3<2.0 in c:\\users\\alan de castro\\appdata\\local\\programs\\python\\python311\\lib\\site-packages (from google-auth<3,>=1.6.3->tensorboard>=2.13.0->snorkel) (1.26.16)\n",
      "Requirement already satisfied: requests-oauthlib>=0.7.0 in c:\\users\\alan de castro\\appdata\\local\\programs\\python\\python311\\lib\\site-packages (from google-auth-oauthlib<1.1,>=0.5->tensorboard>=2.13.0->snorkel) (1.3.1)\n",
      "Requirement already satisfied: intel-openmp==2021.* in c:\\users\\alan de castro\\appdata\\local\\programs\\python\\python311\\lib\\site-packages (from mkl<=2021.4.0,>=2021.1.1->torch>=1.2.0->snorkel) (2021.4.0)\n",
      "Requirement already satisfied: tbb==2021.* in c:\\users\\alan de castro\\appdata\\local\\programs\\python\\python311\\lib\\site-packages (from mkl<=2021.4.0,>=2021.1.1->torch>=1.2.0->snorkel) (2021.12.0)\n",
      "Requirement already satisfied: charset-normalizer<4,>=2 in c:\\users\\alan de castro\\appdata\\local\\programs\\python\\python311\\lib\\site-packages (from requests<3,>=2.21.0->tensorboard>=2.13.0->snorkel) (3.2.0)\n",
      "Requirement already satisfied: idna<4,>=2.5 in c:\\users\\alan de castro\\appdata\\local\\programs\\python\\python311\\lib\\site-packages (from requests<3,>=2.21.0->tensorboard>=2.13.0->snorkel) (3.4)\n",
      "Requirement already satisfied: certifi>=2017.4.17 in c:\\users\\alan de castro\\appdata\\local\\programs\\python\\python311\\lib\\site-packages (from requests<3,>=2.21.0->tensorboard>=2.13.0->snorkel) (2023.7.22)\n",
      "Requirement already satisfied: MarkupSafe>=2.1.1 in c:\\users\\alan de castro\\appdata\\local\\programs\\python\\python311\\lib\\site-packages (from werkzeug>=1.0.1->tensorboard>=2.13.0->snorkel) (2.1.3)\n",
      "Requirement already satisfied: mpmath<1.4.0,>=1.1.0 in c:\\users\\alan de castro\\appdata\\local\\programs\\python\\python311\\lib\\site-packages (from sympy->torch>=1.2.0->snorkel) (1.3.0)\n",
      "Requirement already satisfied: pyasn1<0.6.0,>=0.4.6 in c:\\users\\alan de castro\\appdata\\local\\programs\\python\\python311\\lib\\site-packages (from pyasn1-modules>=0.2.1->google-auth<3,>=1.6.3->tensorboard>=2.13.0->snorkel) (0.5.0)\n",
      "Requirement already satisfied: oauthlib>=3.0.0 in c:\\users\\alan de castro\\appdata\\local\\programs\\python\\python311\\lib\\site-packages (from requests-oauthlib>=0.7.0->google-auth-oauthlib<1.1,>=0.5->tensorboard>=2.13.0->snorkel) (3.2.2)\n",
      "Note: you may need to restart the kernel to use updated packages.\n"
     ]
    },
    {
     "name": "stderr",
     "output_type": "stream",
     "text": [
      "\n",
      "[notice] A new release of pip is available: 23.1.2 -> 25.1.1\n",
      "[notice] To update, run: python.exe -m pip install --upgrade pip\n"
     ]
    }
   ],
   "source": [
    "%pip install snorkel"
   ]
  },
  {
   "cell_type": "markdown",
   "id": "64c9767d",
   "metadata": {},
   "source": [
    "Importação das bibliotecas"
   ]
  },
  {
   "cell_type": "code",
   "execution_count": 12,
   "id": "7ccad101",
   "metadata": {},
   "outputs": [],
   "source": [
    "import pandas as pd\n",
    "import numpy as np\n",
    "import matplotlib.pyplot as plt\n",
    "import seaborn as sns\n",
    "from snorkel.labeling import LabelingFunction, LFApplier  # Corrigido import\n",
    "from snorkel.labeling.model import LabelModel, MajorityLabelVoter\n",
    "from transformers import pipeline\n",
    "from sklearn.model_selection import train_test_split\n",
    "from sklearn.ensemble import RandomForestClassifier\n",
    "from sklearn.metrics import classification_report, matthews_corrcoef\n",
    "from sklearn.feature_extraction.text import TfidfVectorizer\n",
    "from snorkel.labeling import LFAnalysis\n"
   ]
  },
  {
   "cell_type": "markdown",
   "id": "c7451a73",
   "metadata": {},
   "source": [
    "Carregamento do dataset"
   ]
  },
  {
   "cell_type": "code",
   "execution_count": 43,
   "id": "86adde49",
   "metadata": {},
   "outputs": [
    {
     "name": "stderr",
     "output_type": "stream",
     "text": [
      "C:\\Users\\Alan de Castro\\AppData\\Local\\Temp\\ipykernel_14932\\2236694325.py:8: DeprecationWarning: load_dataset is deprecated and will be removed in a future version.\n",
      "  df = kagglehub.load_dataset(\n"
     ]
    },
    {
     "name": "stdout",
     "output_type": "stream",
     "text": [
      "Downloading from https://www.kaggle.com/api/v1/datasets/download/sahideseker/tweet-sentiment-classification-dataset?dataset_version_number=1&file_name=tweet_sentiment.csv...\n"
     ]
    },
    {
     "name": "stderr",
     "output_type": "stream",
     "text": [
      "100%|██████████| 33.6k/33.6k [00:00<00:00, 366kB/s]\n"
     ]
    },
    {
     "name": "stdout",
     "output_type": "stream",
     "text": [
      "Primeiros 5 registros:                            tweet sentiment\n",
      "0      The event starts at 5 PM.   neutral\n",
      "1    I hate how this turned out.  negative\n",
      "2          Fantastic experience!  positive\n",
      "3          Fantastic experience!  positive\n",
      "4  This is the worst thing ever!  negative\n"
     ]
    }
   ],
   "source": [
    "import kagglehub\n",
    "from kagglehub import KaggleDatasetAdapter\n",
    "\n",
    "# Carregar o dataset (supondo que já tenha sido carregado corretamente)\n",
    "file_path_2 = \"tweet_sentiment.csv\"  # Ajuste conforme o nome correto do arquivo\n",
    "\n",
    "# Carregar o dataset usando o KaggleHub (alternativa à leitura direta com pandas)\n",
    "df = kagglehub.load_dataset(\n",
    "  KaggleDatasetAdapter.PANDAS,\n",
    "  \"sahideseker/tweet-sentiment-classification-dataset\",\n",
    "  file_path_2,\n",
    ")\n",
    "\n",
    "# Exibir as primeiras 5 linhas para inspecionar os dados\n",
    "print(\"Primeiros 5 registros:\", df.head())\n",
    "\n"
   ]
  },
  {
   "cell_type": "markdown",
   "id": "9e2052d7",
   "metadata": {},
   "source": [
    "Distribuição das avaliações por tipo de assento"
   ]
  },
  {
   "cell_type": "code",
   "execution_count": 44,
   "id": "6e11d77f",
   "metadata": {},
   "outputs": [
    {
     "name": "stdout",
     "output_type": "stream",
     "text": [
      "Defaulting to user installation because normal site-packages is not writeable\n"
     ]
    },
    {
     "name": "stderr",
     "output_type": "stream",
     "text": [
      "ERROR: Could not find a version that satisfies the requirement matlplotlib (from versions: none)\n",
      "\n",
      "[notice] A new release of pip is available: 24.2 -> 25.1.1\n",
      "[notice] To update, run: C:\\Python312\\python.exe -m pip install --upgrade pip\n",
      "ERROR: No matching distribution found for matlplotlib\n"
     ]
    }
   ],
   "source": [
    "!pip install matlplotlib"
   ]
  },
  {
   "cell_type": "code",
   "execution_count": 15,
   "id": "a16e26d2",
   "metadata": {},
   "outputs": [],
   "source": [
    "import matplotlib.pyplot as plt\n"
   ]
  },
  {
   "cell_type": "code",
   "execution_count": 46,
   "id": "ee94cd0d",
   "metadata": {},
   "outputs": [
    {
     "name": "stderr",
     "output_type": "stream",
     "text": [
      "C:\\Users\\Alan de Castro\\AppData\\Local\\Temp\\ipykernel_14932\\3847719490.py:3: FutureWarning: \n",
      "\n",
      "Passing `palette` without assigning `hue` is deprecated and will be removed in v0.14.0. Assign the `x` variable to `hue` and set `legend=False` for the same effect.\n",
      "\n",
      "  sns.countplot(x='sentiment', data=df, palette='Set2')\n"
     ]
    },
    {
     "data": {
      "image/png": "[encoded data removed]",
      "text/plain": [
       "<Figure size 1000x600 with 1 Axes>"
      ]
     },
     "metadata": {},
     "output_type": "display_data"
    }
   ],
   "source": [
    "# Distribuição das avaliações por tipo de assento\n",
    "plt.figure(figsize=(10, 6))\n",
    "sns.countplot(x='sentiment', data=df, palette='Set2')\n",
    "plt.title('Distribuição das Avaliações por Tipo de Assento')\n",
    "plt.xlabel('Tipo de Assento')\n",
    "plt.ylabel('Contagem de Avaliações')\n",
    "plt.xticks(rotation=45)\n",
    "plt.show()\n"
   ]
  },
  {
   "cell_type": "markdown",
   "id": "dc81e66f",
   "metadata": {},
   "source": [
    "Comprimento das avaliações"
   ]
  },
  {
   "cell_type": "code",
   "execution_count": 48,
   "id": "29475810",
   "metadata": {},
   "outputs": [
    {
     "data": {
      "image/png": "[encoded data removed]",
      "text/plain": [
       "<Figure size 1200x600 with 1 Axes>"
      ]
     },
     "metadata": {},
     "output_type": "display_data"
    }
   ],
   "source": [
    "# Criando uma nova coluna para o comprimento de cada avaliação\n",
    "df['tweet Length'] = df['tweet'].apply(len)\n",
    "\n",
    "# Plotando a distribuição do comprimento das avaliações\n",
    "plt.figure(figsize=(12, 6))\n",
    "sns.histplot(df['tweet Length'], bins=30, kde=True, color='blue')\n",
    "plt.title('Distribuição do Comprimento das Avaliações')\n",
    "plt.xlabel('Comprimento da Avaliação')\n",
    "plt.ylabel('Contagem')\n",
    "plt.show()\n"
   ]
  },
  {
   "cell_type": "markdown",
   "id": "aa722965",
   "metadata": {},
   "source": [
    "Palavras mais usadas"
   ]
  },
  {
   "cell_type": "code",
   "execution_count": 35,
   "id": "20763185",
   "metadata": {},
   "outputs": [
    {
     "name": "stderr",
     "output_type": "stream",
     "text": [
      "C:\\Users\\Alan de Castro\\AppData\\Local\\Temp\\ipykernel_14932\\4294333998.py:19: FutureWarning: \n",
      "\n",
      "Passing `palette` without assigning `hue` is deprecated and will be removed in v0.14.0. Assign the `y` variable to `hue` and set `legend=False` for the same effect.\n",
      "\n",
      "  sns.barplot(x=\"count\", y=\"word\", data=df_common, palette=\"viridis\")\n"
     ]
    },
    {
     "data": {
      "image/png": "[encoded data removed]",
      "text/plain": [
       "<Figure size 1000x600 with 1 Axes>"
      ]
     },
     "metadata": {},
     "output_type": "display_data"
    }
   ],
   "source": [
    "\n",
    "\n",
    "# 2) Tokenização simples: extrai sequências alfanuméricas\n",
    "df[\"tokens\"] = (\n",
    "    df[\"Review\"]\n",
    "    .str.lower()\n",
    "    .str.findall(r\"\\b\\w+\\b\")\n",
    ")\n",
    "\n",
    "# 3) Contar todas as palavras\n",
    "all_words = [w for tokens in df[\"tokens\"] for w in tokens]\n",
    "word_counts = Counter(all_words)\n",
    "\n",
    "# 4) Selecionar as top 20\n",
    "top_n = 20\n",
    "common = word_counts.most_common(top_n)\n",
    "df_common = pd.DataFrame(common, columns=[\"word\", \"count\"])\n",
    "\n",
    "# 5) Plot\n",
    "plt.figure(figsize=(10, 6))\n",
    "sns.barplot(x=\"count\", y=\"word\", data=df_common, palette=\"viridis\")\n",
    "plt.title(f\"Top {top_n} Palavras Mais Frequentes nas Reviews\")\n",
    "plt.xlabel(\"Frequência\")\n",
    "plt.ylabel(\"Palavra\")\n",
    "plt.tight_layout()\n",
    "plt.show()\n"
   ]
  },
  {
   "cell_type": "markdown",
   "id": "c0d40ceb",
   "metadata": {},
   "source": [
    "Uso de Emois e Tags HTML"
   ]
  },
  {
   "cell_type": "code",
   "execution_count": 42,
   "id": "8e7cb738",
   "metadata": {},
   "outputs": [
    {
     "name": "stderr",
     "output_type": "stream",
     "text": [
      "C:\\Users\\Alan de Castro\\AppData\\Local\\Temp\\ipykernel_14932\\2600616134.py:36: FutureWarning: \n",
      "\n",
      "Passing `palette` without assigning `hue` is deprecated and will be removed in v0.14.0. Assign the `x` variable to `hue` and set `legend=False` for the same effect.\n",
      "\n",
      "  sns.barplot(x=\"feature\", y=\"count\", data=prop_df, ax=axes[0], palette=\"pastel\")\n",
      "C:\\Users\\Alan de Castro\\AppData\\Local\\Temp\\ipykernel_14932\\2600616134.py:40: FutureWarning: \n",
      "\n",
      "Passing `palette` without assigning `hue` is deprecated and will be removed in v0.14.0. Assign the `x` variable to `hue` and set `legend=False` for the same effect.\n",
      "\n",
      "  sns.barplot(x=\"feature\", y=\"prop\", data=prop_df, ax=axes[1], palette=\"pastel\")\n"
     ]
    },
    {
     "data": {
      "image/png": "[encoded data removed]",
      "text/plain": [
       "<Figure size 1200x400 with 2 Axes>"
      ]
     },
     "metadata": {},
     "output_type": "display_data"
    }
   ],
   "source": [
    "# === Detecção de Emojis e Tags HTML ===\n",
    "\n",
    "import re\n",
    "\n",
    "# Regex para blocos Unicode típicos de emojis\n",
    "emoji_pattern = re.compile(\n",
    "    \"[\"\n",
    "    u\"\\U0001F600-\\U0001F64F\"  # emoticons\n",
    "    u\"\\U0001F300-\\U0001F5FF\"  # símbolos e pictogramas\n",
    "    u\"\\U0001F680-\\U0001F6FF\"  # transporte e mapas\n",
    "    u\"\\U0001F1E0-\\U0001F1FF\"  # bandeiras\n",
    "    \"]+\",\n",
    "    flags=re.UNICODE,\n",
    ")\n",
    "\n",
    "# Regex para detectar tags HTML\n",
    "html_pattern = re.compile(r\"<[^>]+>\")\n",
    "\n",
    "# Criar flags\n",
    "df[\"has_emoji\"] = df[\"Review\"].apply(lambda x: bool(emoji_pattern.search(x)))\n",
    "df[\"has_html\"]  = df[\"Review\"].apply(lambda x: bool(html_pattern.search(x)))\n",
    "\n",
    "# Estatísticas\n",
    "total = len(df)\n",
    "emoji_count = df[\"has_emoji\"].sum()\n",
    "html_count  = df[\"has_html\"].sum()\n",
    "\n",
    "# Plot de barras\n",
    "prop_df = pd.DataFrame({\n",
    "    \"feature\": [\"Emoji\", \"HTML\"],\n",
    "    \"count\":   [emoji_count, html_count],\n",
    "    \"prop\":    [emoji_count/total, html_count/total]\n",
    "})\n",
    "\n",
    "fig, axes = plt.subplots(1, 2, figsize=(12, 4))\n",
    "sns.barplot(x=\"feature\", y=\"count\", data=prop_df, ax=axes[0], palette=\"pastel\")\n",
    "axes[0].set_title(\"Número de Reviews com Emoji vs. HTML\")\n",
    "axes[0].set_ylabel(\"Contagem\")\n",
    "\n",
    "sns.barplot(x=\"feature\", y=\"prop\", data=prop_df, ax=axes[1], palette=\"pastel\")\n",
    "axes[1].set_title(\"Proporção de Reviews com Emoji vs. HTML\")\n",
    "axes[1].set_ylabel(\"Proporção\")\n",
    "\n",
    "plt.tight_layout()\n",
    "plt.show()\n"
   ]
  },
  {
   "cell_type": "code",
   "execution_count": 24,
   "id": "1c542c73",
   "metadata": {},
   "outputs": [
    {
     "name": "stdout",
     "output_type": "stream",
     "text": [
      "Requirement already satisfied: textblob in c:\\users\\alan de castro\\appdata\\local\\programs\\python\\python311\\lib\\site-packages (0.19.0)\n",
      "Requirement already satisfied: nltk>=3.9 in c:\\users\\alan de castro\\appdata\\local\\programs\\python\\python311\\lib\\site-packages (from textblob) (3.9.1)\n",
      "Requirement already satisfied: click in c:\\users\\alan de castro\\appdata\\local\\programs\\python\\python311\\lib\\site-packages (from nltk>=3.9->textblob) (8.1.7)\n",
      "Requirement already satisfied: joblib in c:\\users\\alan de castro\\appdata\\local\\programs\\python\\python311\\lib\\site-packages (from nltk>=3.9->textblob) (1.3.2)\n",
      "Requirement already satisfied: regex>=2021.8.3 in c:\\users\\alan de castro\\appdata\\local\\programs\\python\\python311\\lib\\site-packages (from nltk>=3.9->textblob) (2023.12.25)\n",
      "Requirement already satisfied: tqdm in c:\\users\\alan de castro\\appdata\\local\\programs\\python\\python311\\lib\\site-packages (from nltk>=3.9->textblob) (4.66.1)\n",
      "Requirement already satisfied: colorama in c:\\users\\alan de castro\\appdata\\roaming\\python\\python311\\site-packages (from click->nltk>=3.9->textblob) (0.4.6)\n",
      "Note: you may need to restart the kernel to use updated packages.\n"
     ]
    },
    {
     "name": "stderr",
     "output_type": "stream",
     "text": [
      "\n",
      "[notice] A new release of pip is available: 23.1.2 -> 25.1.1\n",
      "[notice] To update, run: python.exe -m pip install --upgrade pip\n"
     ]
    }
   ],
   "source": [
    "%pip install textblob"
   ]
  },
  {
   "cell_type": "markdown",
   "id": "e3e09385",
   "metadata": {},
   "source": [
    "Definição das funções de etiquetagem (LFs)"
   ]
  },
  {
   "cell_type": "code",
   "execution_count": null,
   "id": "7afe817c",
   "metadata": {},
   "outputs": [
    {
     "data": {
      "application/vnd.jupyter.widget-view+json": {
       "model_id": "e946ddcf1be641f190bb65b14c0dc47a",
       "version_major": 2,
       "version_minor": 0
      },
      "text/plain": [
       "config.json:   0%|          | 0.00/929 [00:00<?, ?B/s]"
      ]
     },
     "metadata": {},
     "output_type": "display_data"
    },
    {
     "name": "stderr",
     "output_type": "stream",
     "text": [
      "c:\\Users\\Alan de Castro\\AppData\\Local\\Programs\\Python\\Python311\\Lib\\site-packages\\huggingface_hub\\file_download.py:157: UserWarning: `huggingface_hub` cache-system uses symlinks by default to efficiently store duplicated files but your machine does not support them in C:\\Users\\Alan de Castro\\.cache\\huggingface\\hub\\models--cardiffnlp--twitter-roberta-base-sentiment-latest. Caching files will still work but in a degraded version that might require more space on your disk. This warning can be disabled by setting the `HF_HUB_DISABLE_SYMLINKS_WARNING` environment variable. For more details, see https://huggingface.co/docs/huggingface_hub/how-to-cache#limitations.\n",
      "To support symlinks on Windows, you either need to activate Developer Mode or to run Python as an administrator. In order to see activate developer mode, see this article: https://docs.microsoft.com/en-us/windows/apps/get-started/enable-your-device-for-development\n",
      "  warnings.warn(message)\n"
     ]
    },
    {
     "data": {
      "application/vnd.jupyter.widget-view+json": {
       "model_id": "2e44194d67b64e2c8e6497d837674863",
       "version_major": 2,
       "version_minor": 0
      },
      "text/plain": [
       "pytorch_model.bin:   0%|          | 0.00/501M [00:00<?, ?B/s]"
      ]
     },
     "metadata": {},
     "output_type": "display_data"
    },
    {
     "name": "stderr",
     "output_type": "stream",
     "text": [
      "Some weights of the model checkpoint at cardiffnlp/twitter-roberta-base-sentiment-latest were not used when initializing RobertaForSequenceClassification: ['roberta.pooler.dense.bias', 'roberta.pooler.dense.weight']\n",
      "- This IS expected if you are initializing RobertaForSequenceClassification from the checkpoint of a model trained on another task or with another architecture (e.g. initializing a BertForSequenceClassification model from a BertForPreTraining model).\n",
      "- This IS NOT expected if you are initializing RobertaForSequenceClassification from the checkpoint of a model that you expect to be exactly identical (initializing a BertForSequenceClassification model from a BertForSequenceClassification model).\n"
     ]
    },
    {
     "data": {
      "application/vnd.jupyter.widget-view+json": {
       "model_id": "5995892790a64a5695f3a2f7308f5fd2",
       "version_major": 2,
       "version_minor": 0
      },
      "text/plain": [
       "vocab.json:   0%|          | 0.00/899k [00:00<?, ?B/s]"
      ]
     },
     "metadata": {},
     "output_type": "display_data"
    },
    {
     "data": {
      "application/vnd.jupyter.widget-view+json": {
       "model_id": "b632942f5f4348d9b86a2494edd35efa",
       "version_major": 2,
       "version_minor": 0
      },
      "text/plain": [
       "merges.txt:   0%|          | 0.00/456k [00:00<?, ?B/s]"
      ]
     },
     "metadata": {},
     "output_type": "display_data"
    },
    {
     "data": {
      "application/vnd.jupyter.widget-view+json": {
       "model_id": "9a3a33ccae634c9699f833ec3504af2b",
       "version_major": 2,
       "version_minor": 0
      },
      "text/plain": [
       "special_tokens_map.json:   0%|          | 0.00/239 [00:00<?, ?B/s]"
      ]
     },
     "metadata": {},
     "output_type": "display_data"
    }
   ],
   "source": [
    "# Definir os rótulos para positivo e negativo\n",
    "POSITIVE = 1\n",
    "NEGATIVE = 0\n",
    "ABSTAIN = -1  \n",
    "\n",
    "# Funções de Etiquetagem (LFs)\n",
    "\n",
    "# LF1: Verificar palavras-chave positivas\n",
    "def lf_positive_keywords(review):\n",
    "    positive_keywords = ['good', 'excellent', 'great', 'love', 'best', 'amazing', 'outstanding']\n",
    "    return POSITIVE if any(word in review.lower() for word in positive_keywords) else ABSTAIN\n",
    "\n",
    "# LF2: Verificar palavras-chave negativas\n",
    "def lf_negative_keywords(review):\n",
    "    negative_keywords = ['bad', 'poor', 'hate', 'worst', 'awful', 'terrible', 'disappointed']\n",
    "    return NEGATIVE if any(word in review.lower() for word in negative_keywords) else ABSTAIN\n",
    "\n",
    "sentiment_model = pipeline(\n",
    "    \"sentiment-analysis\",                              # <- task\n",
    "    model=\"cardiffnlp/twitter-roberta-base-sentiment-latest\",  # <- modelo\n",
    "    tokenizer=\"cardiffnlp/twitter-roberta-base-sentiment-latest\"\n",
    ")\n",
    "\n",
    "def lf_sentiment_model(review):\n",
    "    try:\n",
    "        # Truncar a entrada se o comprimento exceder 512 tokens\n",
    "        result = sentiment_model(review[:512])  # Truncando para o limite de 512 tokens\n",
    "        label = result[0]['label'].lower()\n",
    "        if label == 'positive':\n",
    "            return POSITIVE\n",
    "        elif label == 'negative':\n",
    "            return NEGATIVE\n",
    "        else:\n",
    "            return ABSTAIN\n",
    "    except:\n",
    "        return ABSTAIN  # Em caso de erro, abstém-se da classificação\n",
    "\n",
    "# Criando funções de etiquetagem como instâncias de LabelingFunction\n",
    "lf_positive_keywords = LabelingFunction(name=\"positive_keywords\", f=lf_positive_keywords)\n",
    "lf_negative_keywords = LabelingFunction(name=\"negative_keywords\", f=lf_negative_keywords)\n",
    "lf_sentiment_model = LabelingFunction(name=\"sentiment_model\", f=lf_sentiment_model)\n",
    "\n",
    "# Lista de LFs\n",
    "lfs = [lf_positive_keywords, lf_negative_keywords, lf_sentiment_model]\n"
   ]
  },
  {
   "cell_type": "markdown",
   "id": "ee9762f1",
   "metadata": {},
   "source": [
    "Aplicação das LFs no dataset e Análise de Desempenho"
   ]
  },
  {
   "cell_type": "code",
   "execution_count": 28,
   "id": "356ef7a8",
   "metadata": {},
   "outputs": [
    {
     "name": "stderr",
     "output_type": "stream",
     "text": [
      "7730it [43:12,  2.98it/s] \n"
     ]
    },
    {
     "name": "stdout",
     "output_type": "stream",
     "text": [
      "Análise de desempenho das LFs:                    j Polarity  Coverage  Overlaps  Conflicts\n",
      "positive_keywords  0      [1]  0.330789  0.289909   0.124580\n",
      "negative_keywords  1      [0]  0.336740  0.312937   0.094825\n",
      "sentiment_model    2   [0, 1]  0.834411  0.504269   0.120828\n"
     ]
    }
   ],
   "source": [
    "# Aplicar as funções de etiquetagem (LFs) ao dataset\n",
    "lfa = LFApplier(lfs)  # Usando LFApplier em vez de PandasLFApplier\n",
    "labels = lfa.apply(df['Review'])\n",
    "\n",
    "# Análise de Desempenho das LFs\n",
    "analysis = LFAnalysis(L=labels, lfs=lfs).lf_summary()\n",
    "print(\"Análise de desempenho das LFs:\", analysis)\n"
   ]
  },
  {
   "cell_type": "markdown",
   "id": "9a0dfa7a",
   "metadata": {},
   "source": [
    "Construção do modelo de rótulos para agregação de ruído"
   ]
  },
  {
   "cell_type": "code",
   "execution_count": null,
   "id": "622bc108",
   "metadata": {},
   "outputs": [
    {
     "name": "stderr",
     "output_type": "stream",
     "text": [
      "INFO:root:Computing O...\n",
      "INFO:root:Estimating \\mu...\n",
      "  0%|          | 0/100 [00:00<?, ?epoch/s]INFO:root:[0 epochs]: TRAIN:[loss=0.316]\n",
      "  1%|          | 1/100 [00:00<00:28,  3.47epoch/s]INFO:root:[10 epochs]: TRAIN:[loss=0.090]\n",
      "INFO:root:[20 epochs]: TRAIN:[loss=0.034]\n",
      "INFO:root:[30 epochs]: TRAIN:[loss=0.016]\n",
      "INFO:root:[40 epochs]: TRAIN:[loss=0.009]\n",
      "INFO:root:[50 epochs]: TRAIN:[loss=0.005]\n",
      " 51%|█████     | 51/100 [00:00<00:00, 168.01epoch/s]INFO:root:[60 epochs]: TRAIN:[loss=0.003]\n",
      "INFO:root:[70 epochs]: TRAIN:[loss=0.002]\n",
      "INFO:root:[80 epochs]: TRAIN:[loss=0.002]\n",
      "INFO:root:[90 epochs]: TRAIN:[loss=0.001]\n",
      "100%|██████████| 100/100 [00:00<00:00, 207.23epoch/s]\n",
      "INFO:root:Finished Training\n"
     ]
    },
    {
     "name": "stdout",
     "output_type": "stream",
     "text": [
      "Primeiros 5 registros com rótulos probabilísticos:                                               Review  probabilistic_label\n",
      "0  ✅Trip Verified|  Moroni to Moheli. Turned out ...             0.999836\n",
      "1  ✅Trip Verified| Moroni to Anjouan. It is a ver...             0.934842\n",
      "2  ✅Trip Verified|  Anjouan to Dzaoudzi. A very s...             0.500000\n",
      "3  Not Verified|  Please do a favor yourself and ...             0.166876\n",
      "4  ✅Trip Verified| Do not book a flight with this...             0.166876\n"
     ]
    }
   ],
   "source": [
    "# Construir o modelo de rótulos para agregação de ruído\n",
    "label_model = LabelModel(cardinality=2)  \n",
    "\n",
    "# Ajuste do modelo de rótulos com os rótulos probabilísticos\n",
    "label_model.fit(labels)\n",
    "\n",
    "# Obter os rótulos probabilísticos gerados pelo modelo de rótulos\n",
    "probabilistic_labels = label_model.predict_proba(labels)\n",
    "\n",
    "# Adicionar os rótulos probabilísticos ao dataframe\n",
    "df['probabilistic_label'] = probabilistic_labels[:, 1]  # Probabilidade de ser positivo\n",
    "\n",
    "# Exibir as primeiras 5 linhas com os rótulos probabilísticos\n",
    "print(\"Primeiros 5 registros com rótulos probabilísticos:\", df[['Review', 'probabilistic_label']].head())\n"
   ]
  },
  {
   "cell_type": "markdown",
   "id": "e8a4ea53",
   "metadata": {},
   "source": [
    "Pré-processamento de Texto com TF-IDF"
   ]
  },
  {
   "cell_type": "code",
   "execution_count": 30,
   "id": "fd877ba6",
   "metadata": {},
   "outputs": [],
   "source": [
    "# Pré-processamento de Texto com TF-IDF\n",
    "vectorizer = TfidfVectorizer(stop_words='english', max_features=5000)  # Limitar para 5000 features\n",
    "X_tfidf = vectorizer.fit_transform(df['Review'])\n"
   ]
  },
  {
   "cell_type": "markdown",
   "id": "61214059",
   "metadata": {},
   "source": [
    "Divisão dos dados em treino e teste"
   ]
  },
  {
   "cell_type": "code",
   "execution_count": 31,
   "id": "fd2666c9",
   "metadata": {},
   "outputs": [],
   "source": [
    "# Definir y (rótulos) binários a partir das probabilidades\n",
    "y = (df['probabilistic_label'] > 0.5).astype(int)  # Converter probabilidades para rótulos binários\n",
    "\n",
    "# Dividir os dados em treino e teste\n",
    "X_train, X_test, y_train, y_test = train_test_split(X_tfidf, y, test_size=0.2, random_state=42)\n"
   ]
  },
  {
   "cell_type": "markdown",
   "id": "1d3e6647",
   "metadata": {},
   "source": [
    "Treinamento do modelo RandomForest e avaliação"
   ]
  },
  {
   "cell_type": "code",
   "execution_count": 32,
   "id": "f4e4a197",
   "metadata": {},
   "outputs": [
    {
     "name": "stdout",
     "output_type": "stream",
     "text": [
      "              precision    recall  f1-score   support\n",
      "\n",
      "           0       0.95      0.94      0.95       905\n",
      "           1       0.92      0.93      0.93       641\n",
      "\n",
      "    accuracy                           0.94      1546\n",
      "   macro avg       0.94      0.94      0.94      1546\n",
      "weighted avg       0.94      0.94      0.94      1546\n",
      "\n",
      "MCC: 0.8736500462869342\n"
     ]
    }
   ],
   "source": [
    "# Exemplo de modelo de Random Forest\n",
    "model = RandomForestClassifier()\n",
    "model.fit(X_train, y_train)\n",
    "\n",
    "# Avaliar o modelo\n",
    "y_pred = model.predict(X_test)\n",
    "\n",
    "# Imprimir o relatório de classificação\n",
    "print(classification_report(y_test, y_pred))\n",
    "\n",
    "# Calcular e exibir o Matthews Correlation Coefficient (MCC)\n",
    "mcc = matthews_corrcoef(y_test, y_pred)\n",
    "print(\"MCC:\", mcc)\n"
   ]
  },
  {
   "cell_type": "markdown",
   "id": "de1e8ea7",
   "metadata": {},
   "source": [
    "Comparação com MajorityLabelVoter"
   ]
  },
  {
   "cell_type": "code",
   "execution_count": 33,
   "id": "062ab9b2",
   "metadata": {},
   "outputs": [
    {
     "name": "stdout",
     "output_type": "stream",
     "text": [
      "MCC do Majority Label Voter: -0.007911254541626604\n"
     ]
    }
   ],
   "source": [
    "# Comparação com MajorityLabelVoter\n",
    "from snorkel.labeling.model.baselines import MajorityLabelVoter\n",
    "\n",
    "# Usar MajorityLabelVoter para obter rótulos com base na votação majoritária\n",
    "majority_model = MajorityLabelVoter(cardinality=2)  # Defina o número de classes\n",
    "\n",
    "# Obter as predições para o conjunto de rótulos\n",
    "majority_pred = majority_model.predict(L=labels)  # Aplicando no conjunto de rótulos\n",
    "\n",
    "# Assegurando que as predições correspondem ao tamanho de y_test\n",
    "majority_pred_test = majority_pred[:len(y_test)]  # Ajustando o tamanho\n",
    "\n",
    "# Calcular o Matthews Correlation Coefficient (MCC)\n",
    "from sklearn.metrics import matthews_corrcoef\n",
    "mcc = matthews_corrcoef(y_test, majority_pred_test)\n",
    "print(\"MCC do Majority Label Voter:\", mcc)\n"
   ]
  }
 ],
 "metadata": {
  "kernelspec": {
   "display_name": "Python 3",
   "language": "python",
   "name": "python3"
  },
  "language_info": {
   "codemirror_mode": {
    "name": "ipython",
    "version": 3
   },
   "file_extension": ".py",
   "mimetype": "text/x-python",
   "name": "python",
   "nbconvert_exporter": "python",
   "pygments_lexer": "ipython3",
   "version": "3.11.4"
  }
 },
 "nbformat": 4,
 "nbformat_minor": 5
}
